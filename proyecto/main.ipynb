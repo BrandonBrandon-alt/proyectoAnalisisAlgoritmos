{
 "cells": [
  {
   "cell_type": "markdown",
   "id": "14def083",
   "metadata": {},
   "source": [
    "## main del proyecto\n"
   ]
  },
  {
   "cell_type": "code",
   "execution_count": null,
   "id": "209fa1f0",
   "metadata": {},
   "outputs": [],
   "source": [
    "# Celda 2: Función para ejecutar notebooks\n",
    "import nbformat\n",
    "from nbconvert.preprocessors import ExecutePreprocessor\n",
    "import os\n",
    "\n",
    "def ejecutar_notebook(ruta_notebook):\n",
    "    \"\"\"\n",
    "    Ejecuta un notebook de Jupyter y muestra los resultados\n",
    "    \n",
    "    Args:\n",
    "        ruta_notebook (str): Ruta al notebook a ejecutar\n",
    "    \"\"\"\n",
    "    print(f\"\\n{'='*50}\")\n",
    "    print(f\"Ejecutando: {ruta_notebook}\")\n",
    "    print(\"=\"*50)\n",
    "    \n",
    "    # Cargar el notebook\n",
    "    with open(ruta_notebook, 'r', encoding='utf-8') as f:\n",
    "        nb = nbformat.read(f, as_version=4)\n",
    "    \n",
    "    # Configurar el ejecutor\n",
    "    ep = ExecutePreprocessor(timeout=600, kernel_name='python3')\n",
    "    \n",
    "    try:\n",
    "        # Ejecutar el notebook\n",
    "        ep.preprocess(nb)\n",
    "        print(f\"✓ {ruta_notebook} ejecutado correctamente\")\n",
    "        return True\n",
    "    except Exception as e:\n",
    "        print(f\"✗ Error al ejecutar {ruta_notebook}: {str(e)}\")\n",
    "        return False\n",
    "    finally:\n",
    "        # Guardar el notebook con los resultados\n",
    "        with open(ruta_notebook, 'w', encoding='utf-8') as f:\n",
    "            nbformat.write(nb, f)"
   ]
  },
  {
   "cell_type": "code",
   "execution_count": null,
   "id": "31bee962",
   "metadata": {},
   "outputs": [],
   "source": [
    "# Celda 3: Lista de notebooks a ejecutar en orden\n",
    "notebooks = [\n",
    "    'IEEE.ipynb',\n",
    "    'science.ipynb',\n",
    "    'taylor.ipynb',\n",
    "    'Limpieza.ipynb'\n",
    "]\n",
    "\n",
    "# Ruta base donde se encuentran los notebooks\n",
    "# Asegúrate de que esta ruta sea correcta\n",
    "ruta_base = os.getcwd()  # O especifica la ruta completa si es necesario\n",
    "\n",
    "# Ejecutar los notebooks en orden\n",
    "for notebook in notebooks:\n",
    "    ruta_completa = os.path.join(ruta_base, notebook)\n",
    "    if os.path.exists(ruta_completa):\n",
    "        if not ejecutar_notebook(ruta_completa):\n",
    "            print(f\"Deteniendo la ejecución debido a un error en {notebook}\")\n",
    "            break\n",
    "    else:\n",
    "        print(f\"✗ No se encontró el archivo: {ruta_completa}\")\n",
    "        break\n",
    "\n",
    "print(\"\\n¡Proceso completado!\")"
   ]
  }
 ],
 "metadata": {
  "kernelspec": {
   "display_name": "Python 3",
   "language": "python",
   "name": "python3"
  },
  "language_info": {
   "name": "python",
   "version": "3.13.9"
  }
 },
 "nbformat": 4,
 "nbformat_minor": 5
}
