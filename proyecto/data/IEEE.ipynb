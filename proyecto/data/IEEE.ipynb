{
 "cells": [
  {
   "cell_type": "markdown",
   "id": "40e9b40b",
   "metadata": {},
   "source": [
    "## Web Scraping Automatizado: IEEE Xplore\n",
    "\n",
    "Este notebook implementa un **bot de web scraping automatizado** para descargar artículos científicos en formato BibTeX desde IEEE Xplore.\n",
    "\n",
    "### Objetivos:\n",
    "1. **Autenticación automática** vía proxy institucional\n",
    "2. **Navegación programática** a IEEE Xplore\n",
    "3. **Búsqueda automatizada** de términos específicos\n",
    "4. **Descarga masiva** de archivos BibTeX con paginación\n",
    "5. **Organización** de archivos descargados\n",
    "\n",
    "### Flujo del Proceso:\n",
    "```\n",
    "Login Proxy → Autenticación Google → Selección Facultad → \n",
    "Acceso IEEE → Búsqueda → Configuración Resultados → \n",
    "Loop de Paginación → Descarga BibTeX → Renombrado → Siguiente Página\n",
    "```"
   ]
  },
  {
   "cell_type": "markdown",
   "id": "9865f66e",
   "metadata": {},
   "source": [
    "## Paso 1 — Imports y carga de variables de entorno\n",
    "\n",
    "## Este bloque importa las librerías necesarias para manejar datos, controlar el navegador con Selenium y cargar variables desde un archivo .env."
   ]
  },
  {
   "cell_type": "code",
   "execution_count": 13,
   "id": "230da269",
   "metadata": {
    "execution": {
     "iopub.execute_input": "2025-09-24T18:03:16.278461Z",
     "iopub.status.busy": "2025-09-24T18:03:16.277687Z",
     "iopub.status.idle": "2025-09-24T18:03:17.891129Z",
     "shell.execute_reply": "2025-09-24T18:03:17.889935Z"
    }
   },
   "outputs": [
    {
     "name": "stdout",
     "output_type": "stream",
     "text": [
      "Variables cargadas correctamente\n",
      "Email: bra***@uqvirtual.edu.co\n"
     ]
    }
   ],
   "source": [
    "#imports requeridos para que el proyecto funcione\n",
    "import pandas as pd\n",
    "from selenium import webdriver\n",
    "from selenium.webdriver.common.by import By\n",
    "from selenium.webdriver.common.keys import Keys\n",
    "from selenium.webdriver.common.action_chains import ActionChains\n",
    "from selenium.webdriver.support.ui import WebDriverWait\n",
    "from selenium.webdriver.support import expected_conditions as EC\n",
    "from selenium.webdriver.chrome.service import Service\n",
    "from selenium.common.exceptions import TimeoutException, NoSuchElementException, StaleElementReferenceException\n",
    "import os\n",
    "from dotenv import load_dotenv\n",
    "\n",
    "# Cargar variables del archivo .env\n",
    "load_dotenv()\n",
    "\n",
    "# Obtener y validar variables de entorno\n",
    "email = os.getenv(\"EMAIL\")\n",
    "password = os.getenv(\"PASSWORD\")\n",
    "\n",
    "# Validación crítica de variables\n",
    "if not email or not password:\n",
    "    raise ValueError(\"ERROR: EMAIL y PASSWORD deben estar definidos en el archivo .env\")\n",
    "\n",
    "print(f\"Variables cargadas correctamente\")\n",
    "print(f\"Email: {email[:3]}***@{email.split('@')[1] if '@' in email else '***'}\")"
   ]
  },
  {
   "cell_type": "markdown",
   "id": "df85c237",
   "metadata": {},
   "source": [
    "## Paso 2 — Configuración de ruta y opciones de descarga en Chrome\n",
    "\n",
    "## Este bloque define la carpeta donde se guardarán las descargas y configura las preferencias del navegador Chrome para automatizar ese proceso."
   ]
  },
  {
   "cell_type": "code",
   "execution_count": 14,
   "id": "fcf8547f",
   "metadata": {
    "execution": {
     "iopub.execute_input": "2025-09-24T18:03:17.897196Z",
     "iopub.status.busy": "2025-09-24T18:03:17.895639Z",
     "iopub.status.idle": "2025-09-24T18:03:17.906386Z",
     "shell.execute_reply": "2025-09-24T18:03:17.902821Z"
    }
   },
   "outputs": [
    {
     "name": "stdout",
     "output_type": "stream",
     "text": [
      "Opciones de Chrome configuradas\n",
      "Ruta de descarga: /home/nop/Documentos/proyectoAnalisisAlgoritmos/descargas\n"
     ]
    }
   ],
   "source": [
    "# Configurar la ruta de descarga\n",
    "download_path = os.getenv(\"DOWNLOAD_PATH\")\n",
    "\n",
    "# Validación crítica de ruta de descarga\n",
    "if not download_path:\n",
    "    raise ValueError(\"ERROR: DOWNLOAD_PATH debe estar definido en el archivo .env\")\n",
    "\n",
    "os.makedirs(download_path, exist_ok=True)\n",
    "\n",
    "chrome_options = webdriver.ChromeOptions()\n",
    "\n",
    "# Configuración de preferencias de descargas\n",
    "prefs = {\n",
    "    \"download.default_directory\": download_path,\n",
    "    \"download.prompt_for_download\": False,\n",
    "    \"download.directory_upgrade\": True,\n",
    "    \"safebrowsing.enabled\": False,\n",
    "    \"profile.default_content_settings.popups\": 0,\n",
    "    \"profile.content_settings.exceptions.automatic_downloads.*.setting\": 1\n",
    "}\n",
    "chrome_options.add_experimental_option(\"prefs\", prefs)\n",
    "\n",
    "# Argumentos adicionales para estabilidad\n",
    "chrome_options.add_argument(\"--disable-extensions\")\n",
    "chrome_options.add_argument(\"--disable-download-notification\")\n",
    "chrome_options.add_argument(\"--disable-popup-blocking\")\n",
    "chrome_options.add_argument(\"--no-sandbox\")\n",
    "chrome_options.add_argument(\"--disable-dev-shm-usage\")\n",
    "\n",
    "print(f\"Opciones de Chrome configuradas\")\n",
    "print(f\"Ruta de descarga: {download_path}\")"
   ]
  },
  {
   "cell_type": "markdown",
   "id": "3bf39b18",
   "metadata": {},
   "source": [
    "## Paso 3 — Inicialización del navegador y apertura de la página\n",
    "\n",
    "## Este bloque crea una instancia del navegador Chrome con las opciones configuradas previamente y accede a la URL deseada."
   ]
  },
  {
   "cell_type": "code",
   "execution_count": 15,
   "id": "394c3cd5",
   "metadata": {
    "execution": {
     "iopub.execute_input": "2025-09-24T18:03:17.910571Z",
     "iopub.status.busy": "2025-09-24T18:03:17.910218Z",
     "iopub.status.idle": "2025-09-24T18:03:24.217312Z",
     "shell.execute_reply": "2025-09-24T18:03:24.216070Z"
    }
   },
   "outputs": [
    {
     "name": "stdout",
     "output_type": "stream",
     "text": [
      "Navegador Chrome iniciado correctamente\n",
      "Navegando a: https://login.intelproxy.com/v2/inicio?cuenta=7Ah6RNpGWF22jjyq\n"
     ]
    }
   ],
   "source": [
    "# Iniciar el navegador con protección\n",
    "driver = None\n",
    "\n",
    "try:\n",
    "    driver = webdriver.Chrome(options=chrome_options)\n",
    "    driver.set_page_load_timeout(30)\n",
    "    print(\"Navegador Chrome iniciado correctamente\")\n",
    "    \n",
    "    # Abrir la URL\n",
    "    url1 = 'https://login.intelproxy.com/v2/inicio?cuenta=7Ah6RNpGWF22jjyq'\n",
    "    driver.get(url1)\n",
    "    print(f\"Navegando a: {url1}\")\n",
    "    \n",
    "except Exception as e:\n",
    "    print(f\"ERROR: Error al iniciar el navegador: {e}\")\n",
    "    if driver:\n",
    "        driver.quit()\n",
    "    raise"
   ]
  },
  {
   "cell_type": "markdown",
   "id": "dbf170dc",
   "metadata": {},
   "source": [
    "## Paso 4 — Esperar y hacer clic en el botón de inicio de sesión\n",
    "\n",
    "## Este bloque espera hasta que el botón de inicio de sesión esté disponible y realiza el clic para continuar con el proceso."
   ]
  },
  {
   "cell_type": "code",
   "execution_count": 16,
   "id": "629c4f0c",
   "metadata": {
    "execution": {
     "iopub.execute_input": "2025-09-24T18:03:24.226944Z",
     "iopub.status.busy": "2025-09-24T18:03:24.225970Z",
     "iopub.status.idle": "2025-09-24T18:03:27.040754Z",
     "shell.execute_reply": "2025-09-24T18:03:27.039513Z"
    }
   },
   "outputs": [],
   "source": [
    "login_button = WebDriverWait(driver, 20).until(\n",
    "        EC.element_to_be_clickable((By.XPATH, \"/html/body/div/div/div/div[1]/div[2]/a\"))\n",
    ")\n",
    "login_button.click()"
   ]
  },
  {
   "cell_type": "markdown",
   "id": "00f41717",
   "metadata": {},
   "source": [
    "## Paso 5 — Ingresar el correo electrónico\n",
    "\n",
    "## Este bloque espera el campo de correo, introduce el valor obtenido del archivo .env y envía la tecla Enter para continuar."
   ]
  },
  {
   "cell_type": "code",
   "execution_count": 17,
   "id": "df8591be",
   "metadata": {
    "execution": {
     "iopub.execute_input": "2025-09-24T18:03:27.046021Z",
     "iopub.status.busy": "2025-09-24T18:03:27.045403Z",
     "iopub.status.idle": "2025-09-24T18:03:28.756512Z",
     "shell.execute_reply": "2025-09-24T18:03:28.752232Z"
    }
   },
   "outputs": [],
   "source": [
    "email_input = WebDriverWait(driver, 10).until(\n",
    "    EC.element_to_be_clickable((By.ID, \"identifierId\"))\n",
    ")\n",
    "\n",
    "email_input.send_keys(email)\n",
    "email_input.send_keys(Keys.RETURN)"
   ]
  },
  {
   "cell_type": "markdown",
   "id": "5fb4a9f6",
   "metadata": {},
   "source": [
    "## Paso 6 — Ingresar la contraseña\n",
    "\n",
    "## Este bloque espera el campo de contraseña, escribe la clave obtenida del archivo .env y envía la tecla Enter para iniciar sesión."
   ]
  },
  {
   "cell_type": "code",
   "execution_count": 18,
   "id": "19ccc609",
   "metadata": {
    "execution": {
     "iopub.execute_input": "2025-09-24T18:03:28.761602Z",
     "iopub.status.busy": "2025-09-24T18:03:28.761218Z",
     "iopub.status.idle": "2025-09-24T18:03:31.791124Z",
     "shell.execute_reply": "2025-09-24T18:03:31.789811Z"
    }
   },
   "outputs": [],
   "source": [
    "password_input = WebDriverWait(driver, 10).until(\n",
    "    EC.element_to_be_clickable((By.NAME, \"Passwd\"))\n",
    ")# Nombre del campo de contraseña\n",
    "password_input.send_keys(password)\n",
    "password_input.send_keys(Keys.RETURN)"
   ]
  },
  {
   "cell_type": "markdown",
   "id": "5102f8d1",
   "metadata": {},
   "source": [
    "## Paso 7 — Acceder al apartado \"Fac. Ingeniería\"\n",
    "\n",
    "## Este bloque localiza y hace clic en el botón que despliega la sección correspondiente a “Fac. Ingeniería”."
   ]
  },
  {
   "cell_type": "code",
   "execution_count": 19,
   "id": "322d9c9f",
   "metadata": {},
   "outputs": [],
   "source": [
    "from selenium.webdriver.common.by import By\n",
    "from selenium.webdriver.support.ui import WebDriverWait\n",
    "from selenium.webdriver.support import expected_conditions as EC\n",
    "import time\n",
    "\n",
    "# Buscar el botón <summary> que contiene \"Fac. Ingeniería\"\n",
    "boton = WebDriverWait(driver, 20).until(\n",
    "    EC.element_to_be_clickable((By.XPATH, \"//summary[contains(., 'Fac. Ingeniería')]\"))\n",
    ")\n",
    "\n",
    "time.sleep(2)\n",
    "boton.click()"
   ]
  },
  {
   "cell_type": "markdown",
   "id": "ca1030fa",
   "metadata": {},
   "source": [
    "## Paso 8 — Localizar el enlace a IEEE\n",
    "\n",
    "## Este bloque espera a que el enlace correspondiente a “IEEE” esté disponible para su interacción en la página."
   ]
  },
  {
   "cell_type": "code",
   "execution_count": 20,
   "id": "38be22d9",
   "metadata": {},
   "outputs": [],
   "source": [
    "from selenium.webdriver.common.by import By\n",
    "from selenium.webdriver.support.ui import WebDriverWait\n",
    "from selenium.webdriver.support import expected_conditions as EC\n",
    "\n",
    "# Buscar el enlace a IEEE por su XPath correcto\n",
    "enlaceIEEE = WebDriverWait(driver, 15).until(\n",
    "    EC.element_to_be_clickable((By.XPATH, \"//*[@id='facingenieraieeeinstituteofelectricalandelectronicsengineersdescubridor']//h2[@class='result-title']/a\"))\n",
    ")\n"
   ]
  },
  {
   "cell_type": "markdown",
   "id": "78653df1",
   "metadata": {},
   "source": [
    "# Paso 9 — Hacer clic en el enlace de IEEE\n",
    "\n",
    "# Este bloque realiza la acción de clic en el enlace previamente localizado para acceder al contenido o recurso correspondiente."
   ]
  },
  {
   "cell_type": "code",
   "execution_count": 21,
   "id": "ffb80de6",
   "metadata": {},
   "outputs": [
    {
     "ename": "TimeoutException",
     "evalue": "Message: timeout: Timed out receiving message from renderer: 30.000\n  (Session info: chrome=142.0.7444.59)\nStacktrace:\n#0 0x561277764aea <unknown>\n#1 0x5612771b0cdb <unknown>\n#2 0x561277198c84 <unknown>\n#3 0x561277198967 <unknown>\n#4 0x56127719676f <unknown>\n#5 0x5612771970ef <unknown>\n#6 0x5612771a5b33 <unknown>\n#7 0x5612771bf491 <unknown>\n#8 0x5612771c5cab <unknown>\n#9 0x56127719782d <unknown>\n#10 0x5612771bf239 <unknown>\n#11 0x56127724ffff <unknown>\n#12 0x5612771f5aca <unknown>\n#13 0x5612771f67d1 <unknown>\n#14 0x56127772bab9 <unknown>\n#15 0x56127772ea8c <unknown>\n#16 0x561277714d49 <unknown>\n#17 0x56127772f685 <unknown>\n#18 0x5612776fc6c3 <unknown>\n#19 0x5612777517d8 <unknown>\n#20 0x5612777519b3 <unknown>\n#21 0x561277763a83 <unknown>\n#22 0x7f32832a4464 start_thread\n#23 0x7f32833275ac __clone3\n",
     "output_type": "error",
     "traceback": [
      "\u001b[31m---------------------------------------------------------------------------\u001b[39m",
      "\u001b[31mTimeoutException\u001b[39m                          Traceback (most recent call last)",
      "\u001b[36mCell\u001b[39m\u001b[36m \u001b[39m\u001b[32mIn[21]\u001b[39m\u001b[32m, line 2\u001b[39m\n\u001b[32m      1\u001b[39m \u001b[38;5;66;03m# Hacer clic en el enlace\u001b[39;00m\n\u001b[32m----> \u001b[39m\u001b[32m2\u001b[39m \u001b[43menlaceIEEE\u001b[49m\u001b[43m.\u001b[49m\u001b[43mclick\u001b[49m\u001b[43m(\u001b[49m\u001b[43m)\u001b[49m\n",
      "\u001b[36mFile \u001b[39m\u001b[32m~/Documentos/proyectoAnalisisAlgoritmos/venv/lib/python3.13/site-packages/selenium/webdriver/remote/webelement.py:120\u001b[39m, in \u001b[36mWebElement.click\u001b[39m\u001b[34m(self)\u001b[39m\n\u001b[32m    112\u001b[39m \u001b[38;5;28;01mdef\u001b[39;00m\u001b[38;5;250m \u001b[39m\u001b[34mclick\u001b[39m(\u001b[38;5;28mself\u001b[39m) -> \u001b[38;5;28;01mNone\u001b[39;00m:\n\u001b[32m    113\u001b[39m \u001b[38;5;250m    \u001b[39m\u001b[33;03m\"\"\"Clicks the element.\u001b[39;00m\n\u001b[32m    114\u001b[39m \n\u001b[32m    115\u001b[39m \u001b[33;03m    Example:\u001b[39;00m\n\u001b[32m   (...)\u001b[39m\u001b[32m    118\u001b[39m \u001b[33;03m    >>> element.click()\u001b[39;00m\n\u001b[32m    119\u001b[39m \u001b[33;03m    \"\"\"\u001b[39;00m\n\u001b[32m--> \u001b[39m\u001b[32m120\u001b[39m     \u001b[38;5;28;43mself\u001b[39;49m\u001b[43m.\u001b[49m\u001b[43m_execute\u001b[49m\u001b[43m(\u001b[49m\u001b[43mCommand\u001b[49m\u001b[43m.\u001b[49m\u001b[43mCLICK_ELEMENT\u001b[49m\u001b[43m)\u001b[49m\n",
      "\u001b[36mFile \u001b[39m\u001b[32m~/Documentos/proyectoAnalisisAlgoritmos/venv/lib/python3.13/site-packages/selenium/webdriver/remote/webelement.py:573\u001b[39m, in \u001b[36mWebElement._execute\u001b[39m\u001b[34m(self, command, params)\u001b[39m\n\u001b[32m    571\u001b[39m     params = {}\n\u001b[32m    572\u001b[39m params[\u001b[33m\"\u001b[39m\u001b[33mid\u001b[39m\u001b[33m\"\u001b[39m] = \u001b[38;5;28mself\u001b[39m._id\n\u001b[32m--> \u001b[39m\u001b[32m573\u001b[39m \u001b[38;5;28;01mreturn\u001b[39;00m \u001b[38;5;28;43mself\u001b[39;49m\u001b[43m.\u001b[49m\u001b[43m_parent\u001b[49m\u001b[43m.\u001b[49m\u001b[43mexecute\u001b[49m\u001b[43m(\u001b[49m\u001b[43mcommand\u001b[49m\u001b[43m,\u001b[49m\u001b[43m \u001b[49m\u001b[43mparams\u001b[49m\u001b[43m)\u001b[49m\n",
      "\u001b[36mFile \u001b[39m\u001b[32m~/Documentos/proyectoAnalisisAlgoritmos/venv/lib/python3.13/site-packages/selenium/webdriver/remote/webdriver.py:454\u001b[39m, in \u001b[36mWebDriver.execute\u001b[39m\u001b[34m(self, driver_command, params)\u001b[39m\n\u001b[32m    451\u001b[39m response = cast(RemoteConnection, \u001b[38;5;28mself\u001b[39m.command_executor).execute(driver_command, params)\n\u001b[32m    453\u001b[39m \u001b[38;5;28;01mif\u001b[39;00m response:\n\u001b[32m--> \u001b[39m\u001b[32m454\u001b[39m     \u001b[38;5;28;43mself\u001b[39;49m\u001b[43m.\u001b[49m\u001b[43merror_handler\u001b[49m\u001b[43m.\u001b[49m\u001b[43mcheck_response\u001b[49m\u001b[43m(\u001b[49m\u001b[43mresponse\u001b[49m\u001b[43m)\u001b[49m\n\u001b[32m    455\u001b[39m     response[\u001b[33m\"\u001b[39m\u001b[33mvalue\u001b[39m\u001b[33m\"\u001b[39m] = \u001b[38;5;28mself\u001b[39m._unwrap_value(response.get(\u001b[33m\"\u001b[39m\u001b[33mvalue\u001b[39m\u001b[33m\"\u001b[39m, \u001b[38;5;28;01mNone\u001b[39;00m))\n\u001b[32m    456\u001b[39m     \u001b[38;5;28;01mreturn\u001b[39;00m response\n",
      "\u001b[36mFile \u001b[39m\u001b[32m~/Documentos/proyectoAnalisisAlgoritmos/venv/lib/python3.13/site-packages/selenium/webdriver/remote/errorhandler.py:232\u001b[39m, in \u001b[36mErrorHandler.check_response\u001b[39m\u001b[34m(self, response)\u001b[39m\n\u001b[32m    230\u001b[39m         alert_text = value[\u001b[33m\"\u001b[39m\u001b[33malert\u001b[39m\u001b[33m\"\u001b[39m].get(\u001b[33m\"\u001b[39m\u001b[33mtext\u001b[39m\u001b[33m\"\u001b[39m)\n\u001b[32m    231\u001b[39m     \u001b[38;5;28;01mraise\u001b[39;00m exception_class(message, screen, stacktrace, alert_text)  \u001b[38;5;66;03m# type: ignore[call-arg]  # mypy is not smart enough here\u001b[39;00m\n\u001b[32m--> \u001b[39m\u001b[32m232\u001b[39m \u001b[38;5;28;01mraise\u001b[39;00m exception_class(message, screen, stacktrace)\n",
      "\u001b[31mTimeoutException\u001b[39m: Message: timeout: Timed out receiving message from renderer: 30.000\n  (Session info: chrome=142.0.7444.59)\nStacktrace:\n#0 0x561277764aea <unknown>\n#1 0x5612771b0cdb <unknown>\n#2 0x561277198c84 <unknown>\n#3 0x561277198967 <unknown>\n#4 0x56127719676f <unknown>\n#5 0x5612771970ef <unknown>\n#6 0x5612771a5b33 <unknown>\n#7 0x5612771bf491 <unknown>\n#8 0x5612771c5cab <unknown>\n#9 0x56127719782d <unknown>\n#10 0x5612771bf239 <unknown>\n#11 0x56127724ffff <unknown>\n#12 0x5612771f5aca <unknown>\n#13 0x5612771f67d1 <unknown>\n#14 0x56127772bab9 <unknown>\n#15 0x56127772ea8c <unknown>\n#16 0x561277714d49 <unknown>\n#17 0x56127772f685 <unknown>\n#18 0x5612776fc6c3 <unknown>\n#19 0x5612777517d8 <unknown>\n#20 0x5612777519b3 <unknown>\n#21 0x561277763a83 <unknown>\n#22 0x7f32832a4464 start_thread\n#23 0x7f32833275ac __clone3\n"
     ]
    }
   ],
   "source": [
    "# Hacer clic en el enlace\n",
    "enlaceIEEE.click()"
   ]
  },
  {
   "cell_type": "markdown",
   "id": "ef467591",
   "metadata": {},
   "source": [
    "## Paso 10 — Cerrar el banner de cookies\n",
    "\n",
    "## Este bloque intenta detectar y cerrar el aviso de cookies que puede aparecer en la página antes de continuar con la automatización."
   ]
  },
  {
   "cell_type": "code",
   "execution_count": null,
   "id": "dbb046ef",
   "metadata": {},
   "outputs": [
    {
     "name": "stdout",
     "output_type": "stream",
     "text": [
      "🍪 Banner de cookies cerrado.\n"
     ]
    }
   ],
   "source": [
    "try:\n",
    "    # Esperar a que aparezca cualquiera de los botones\n",
    "    boton_cookies = WebDriverWait(driver, 10).until(\n",
    "        EC.element_to_be_clickable((By.CSS_SELECTOR, \"button.osano-cm-dialog__close, button.osano-cm-denyAll, button.osano-cm-accept-all\"))\n",
    "    )\n",
    "    driver.execute_script(\"arguments[0].click();\", boton_cookies)\n",
    "    print(\"🍪 Banner de cookies cerrado.\")\n",
    "except Exception as e:\n",
    "    print(f\"⚠ No apareció el banner de cookies o ya estaba cerrado: {e}\")\n"
   ]
  },
  {
   "cell_type": "markdown",
   "id": "a2358dc3",
   "metadata": {},
   "source": [
    "## Paso 11 — Activar la barra de búsqueda en la página de IEEE\n",
    "\n",
    "## Este bloque espera a que la barra de búsqueda esté disponible, la desplaza a la vista y realiza un clic para activarla."
   ]
  },
  {
   "cell_type": "code",
   "execution_count": null,
   "id": "288373e3",
   "metadata": {},
   "outputs": [],
   "source": [
    "# Esperar a que la barra de búsqueda esté clickeable y visible\n",
    "barra_busqueda = WebDriverWait(driver, 15).until(\n",
    "    EC.element_to_be_clickable((By.XPATH, \"//*[@id='LayoutWrapper']/div/div/div[3]/div/xpl-root/header/xpl-header/div/div[2]/div[2]/xpl-search-bar-migr/div/form/div[2]/div/div[1]/xpl-typeahead-migr/div/input\"))\n",
    ")\n",
    "\n",
    "# Hacer scroll al elemento para asegurarse de que esté visible\n",
    "driver.execute_script(\"arguments[0].scrollIntoView(true);\", barra_busqueda)\n",
    "time.sleep(1)\n",
    "\n",
    "# Hacer clic primero para asegurarse de que está activo\n",
    "barra_busqueda.click()\n",
    "time.sleep(0.5)"
   ]
  },
  {
   "cell_type": "markdown",
   "id": "6cc85b3b",
   "metadata": {},
   "source": [
    "# Paso 12 — Ingresar el texto de búsqueda\n",
    "\n",
    "# Este bloque limpia el campo de búsqueda y escribe el término deseado para realizar la consulta."
   ]
  },
  {
   "cell_type": "code",
   "execution_count": null,
   "id": "e841c205",
   "metadata": {},
   "outputs": [],
   "source": [
    "# Escribir \"generative artificial intelligence\" entre comillas para reducir el rango de busqueda\n",
    "barra_busqueda.clear()  # Limpiar cualquier texto previo\n",
    "barra_busqueda.send_keys('generative artificial intelligence')\n",
    "time.sleep(1)  # Pequeña pausa para asegurar que el texto se escribió"
   ]
  },
  {
   "cell_type": "markdown",
   "id": "127d5ec1",
   "metadata": {},
   "source": [
    "# Paso 13 — Esperar el botón de búsqueda\n",
    "\n",
    "# Este bloque localiza y espera a que el botón de búsqueda esté disponible para su uso."
   ]
  },
  {
   "cell_type": "code",
   "execution_count": null,
   "id": "f4208c11",
   "metadata": {},
   "outputs": [],
   "source": [
    "# Esperar a que el botón de búsqueda esté clickeable\n",
    "boton_buscar = WebDriverWait(driver, 10).until(\n",
    "    EC.element_to_be_clickable((By.XPATH, \"//*[@id='LayoutWrapper']/div/div/div[3]/div/xpl-root/header/xpl-header/div/div[2]/div[2]/xpl-search-bar-migr/div/form/div[2]/div/div[2]/button\"))\n",
    ")"
   ]
  },
  {
   "cell_type": "markdown",
   "id": "e95a1a08",
   "metadata": {},
   "source": [
    "# Paso 14 — Ejecutar la búsqueda\n",
    "\n",
    "# Este bloque realiza el clic en el botón de búsqueda para iniciar la consulta en la página."
   ]
  },
  {
   "cell_type": "code",
   "execution_count": null,
   "id": "600dbe47",
   "metadata": {},
   "outputs": [],
   "source": [
    "boton_buscar.click()"
   ]
  },
  {
   "cell_type": "markdown",
   "id": "d87d9d81",
   "metadata": {},
   "source": [
    "# Paso 15 — Verificar la finalización de la descarga\n",
    "\n",
    "# Este bloque define una función que espera la aparición de un nuevo archivo .bib en la carpeta de descargas, confirmando que la descarga se completó correctamente."
   ]
  },
  {
   "cell_type": "code",
   "execution_count": null,
   "id": "d64d8d1a",
   "metadata": {},
   "outputs": [],
   "source": [
    "# Función para verificar que la descarga se completó\n",
    "def esperar_descarga(carpeta, tiempo_max=30):\n",
    "    \"\"\"\n",
    "    Espera hasta que aparezca un nuevo archivo .bib en la carpeta de descargas\n",
    "    o hasta que se agote el tiempo máximo.\n",
    "    \"\"\"\n",
    "    inicio = time.time()\n",
    "    archivos_iniciales = set([f for f in os.listdir(carpeta) if f.endswith('.bib')])\n",
    "    \n",
    "    while time.time() - inicio < tiempo_max:\n",
    "        time.sleep(2)  # Comprobar cada 2 segundos\n",
    "        archivos_actuales = set([f for f in os.listdir(carpeta) if f.endswith('.bib')])\n",
    "        nuevos_archivos = archivos_actuales - archivos_iniciales\n",
    "        \n",
    "        if nuevos_archivos:\n",
    "            # Encontró nuevo archivo\n",
    "            nuevo_archivo = list(nuevos_archivos)[0]\n",
    "            return os.path.join(carpeta, nuevo_archivo)\n",
    "        \n",
    "    print(\"⚠️ Tiempo de espera de descarga agotado.\")\n",
    "    return None\n"
   ]
  },
  {
   "cell_type": "markdown",
   "id": "4539603f",
   "metadata": {},
   "source": [
    "# Paso 16 — Cerrar ventana emergente de cookies\n",
    "\n",
    "# ste bloque intenta localizar y cerrar una ventana de cookies adicional que puede aparecer al cargar la página."
   ]
  },
  {
   "cell_type": "code",
   "execution_count": null,
   "id": "9ca2b951",
   "metadata": {},
   "outputs": [
    {
     "name": "stdout",
     "output_type": "stream",
     "text": [
      "⚠ No apareció la ventana de cookies o ya estaba cerrada.\n"
     ]
    }
   ],
   "source": [
    "try:\n",
    "    # Esperar a que aparezca el botón de aceptar/cerrar cookies\n",
    "    boton_cookies = WebDriverWait(driver, 20).until(\n",
    "        EC.element_to_be_clickable((By.XPATH, \"/html/body/div[1]/div[2]/div[2]/button[2]\"))  # Usa el XPath correcto\n",
    "    )\n",
    "    boton_cookies.click()\n",
    "    print(\"Se cerró la ventana de cookies.\")\n",
    "except:\n",
    "    print(\"⚠ No apareció la ventana de cookies o ya estaba cerrada.\")"
   ]
  },
  {
   "cell_type": "markdown",
   "id": "98559433",
   "metadata": {},
   "source": [
    "# Paso 17 — Mostrar más resultados por página\n",
    "\n",
    "# Este bloque aumenta la cantidad de resultados visibles en la página, facilitando el acceso y descarga de más elementos sin cambiar de página."
   ]
  },
  {
   "cell_type": "code",
   "execution_count": null,
   "id": "ac90adff",
   "metadata": {},
   "outputs": [],
   "source": [
    "# 1. Hacer clic en el menú \"Items Per Page\"\n",
    "itemsPerPage_link = WebDriverWait(driver, 10).until(\n",
    "    EC.element_to_be_clickable((By.ID, 'dropdownPerPageLabel'))\n",
    ")\n",
    "itemsPerPage_link.click()\n",
    "\n",
    "# 2. Seleccionar la opción deseada (ejemplo: 100)\n",
    "option_100 = WebDriverWait(driver, 10).until(\n",
    "    EC.element_to_be_clickable((By.XPATH, \"//button[contains(text(), '100')]\"))\n",
    ")\n",
    "option_100.click()\n"
   ]
  },
  {
   "cell_type": "markdown",
   "id": "c3a0bc71",
   "metadata": {},
   "source": [
    "# Paso 18 — Descarga automatizada de resultados en formato .bib\n",
    "\n",
    "# Este bloque implementa la automatización completa para descargar los resultados de búsqueda de IEEE Xplore en formato BibTeX, página por página, guardándolos con nombres personalizados."
   ]
  },
  {
   "cell_type": "code",
   "execution_count": null,
   "id": "e5221ffd",
   "metadata": {},
   "outputs": [
    {
     "name": "stdout",
     "output_type": "stream",
     "text": [
      "📁 Usando carpeta existente: /home/yep/Documentos/proyectoAnalisisAlgoritmos/descargas/ieee\n",
      "\n",
      "Procesando página 1...\n",
      "⬇️ Intentando descarga para página 1...\n",
      "✅ Archivo guardado como: ieee_generative_ai_page_1.bib\n",
      "➡️ Avanzando a la página 2...\n",
      "\n",
      "Procesando página 2...\n",
      "⬇️ Intentando descarga para página 2...\n",
      "✅ Archivo guardado como: ieee_generative_ai_page_2.bib\n",
      "➡️ Avanzando a la página 3...\n",
      "\n",
      "Procesando página 3...\n",
      "⬇️ Intentando descarga para página 3...\n",
      "✅ Archivo guardado como: ieee_generative_ai_page_3.bib\n",
      "➡️ Avanzando a la página 4...\n",
      "\n",
      "Procesando página 4...\n",
      "⬇️ Intentando descarga para página 4...\n",
      "✅ Archivo guardado como: ieee_generative_ai_page_4.bib\n",
      "➡️ Avanzando a la página 5...\n",
      "\n",
      "Procesando página 5...\n",
      "⬇️ Intentando descarga para página 5...\n",
      "✅ Archivo guardado como: ieee_generative_ai_page_5.bib\n",
      "➡️ Avanzando a la página 6...\n",
      "\n",
      "Procesando página 6...\n",
      "⬇️ Intentando descarga para página 6...\n",
      "✅ Archivo guardado como: ieee_generative_ai_page_6.bib\n",
      "➡️ Avanzando a la página 7...\n",
      "\n",
      "Procesando página 7...\n"
     ]
    },
    {
     "ename": "KeyboardInterrupt",
     "evalue": "",
     "output_type": "error",
     "traceback": [
      "\u001b[31m---------------------------------------------------------------------------\u001b[39m",
      "\u001b[31mKeyboardInterrupt\u001b[39m                         Traceback (most recent call last)",
      "\u001b[36mCell\u001b[39m\u001b[36m \u001b[39m\u001b[32mIn[18]\u001b[39m\u001b[32m, line 71\u001b[39m\n\u001b[32m     66\u001b[39m     enlace = WebDriverWait(driver, \u001b[32m15\u001b[39m).until(\n\u001b[32m     67\u001b[39m         EC.element_to_be_clickable((By.XPATH,\n\u001b[32m     68\u001b[39m             \u001b[33m\"\u001b[39m\u001b[33m//*[@id=\u001b[39m\u001b[33m'\u001b[39m\u001b[33mxplMainContent\u001b[39m\u001b[33m'\u001b[39m\u001b[33m]/div[1]/div[1]/ul/li[3]/xpl-export-search-results/button\u001b[39m\u001b[33m\"\u001b[39m))\n\u001b[32m     69\u001b[39m     )\n\u001b[32m     70\u001b[39m     driver.execute_script(\u001b[33m\"\u001b[39m\u001b[33marguments[0].click();\u001b[39m\u001b[33m\"\u001b[39m, enlace)\n\u001b[32m---> \u001b[39m\u001b[32m71\u001b[39m     \u001b[43mtime\u001b[49m\u001b[43m.\u001b[49m\u001b[43msleep\u001b[49m\u001b[43m(\u001b[49m\u001b[32;43m2\u001b[39;49m\u001b[43m)\u001b[49m\n\u001b[32m     72\u001b[39m \u001b[38;5;28;01mexcept\u001b[39;00m \u001b[38;5;167;01mException\u001b[39;00m \u001b[38;5;28;01mas\u001b[39;00m e:\n\u001b[32m     73\u001b[39m     \u001b[38;5;28mprint\u001b[39m(\u001b[33mf\u001b[39m\u001b[33m\"\u001b[39m\u001b[33m⚠️ Error al hacer clic en export en página \u001b[39m\u001b[38;5;132;01m{\u001b[39;00mpage_num\u001b[38;5;132;01m}\u001b[39;00m\u001b[33m: \u001b[39m\u001b[38;5;132;01m{\u001b[39;00me\u001b[38;5;132;01m}\u001b[39;00m\u001b[33m\"\u001b[39m)\n",
      "\u001b[31mKeyboardInterrupt\u001b[39m: "
     ]
    }
   ],
   "source": [
    "import os\n",
    "import time\n",
    "from selenium.webdriver.common.by import By\n",
    "from selenium.webdriver.common.keys import Keys\n",
    "from selenium.webdriver.support.ui import WebDriverWait\n",
    "from selenium.webdriver.support import expected_conditions as EC\n",
    "from selenium.webdriver.common.action_chains import ActionChains\n",
    "from selenium.common.exceptions import TimeoutException, NoSuchElementException, StaleElementReferenceException\n",
    "\n",
    "# Función auxiliar para esperar descargas nuevas\n",
    "def esperar_descarga(download_path, archivos_antes, timeout=30):\n",
    "    \"\"\"\n",
    "    Espera a que aparezca un nuevo archivo .bib en la carpeta de descargas\n",
    "    que no esté en la lista anterior.\n",
    "    \"\"\"\n",
    "    end_time = time.time() + timeout\n",
    "    while time.time() < end_time:\n",
    "        try:\n",
    "            archivos_actuales = set(f for f in os.listdir(download_path) if f.endswith(\".bib\"))\n",
    "            nuevos = archivos_actuales - archivos_antes\n",
    "            if nuevos:\n",
    "                nuevo_archivo = max([os.path.join(download_path, f) for f in nuevos],\n",
    "                                  key=os.path.getctime)\n",
    "                # Verificar que tenga contenido\n",
    "                if os.path.getsize(nuevo_archivo) > 0:\n",
    "                    return nuevo_archivo\n",
    "        except Exception as e:\n",
    "            print(f\"ADVERTENCIA: Error al verificar descargas: {e}\")\n",
    "        time.sleep(1)\n",
    "    return None\n",
    "\n",
    "# Configura aquí tu carpeta de descargas base\n",
    "base_download_path = os.getenv(\"DOWNLOAD_PATH\")\n",
    "\n",
    "# Crear carpeta ieee dentro de descargas\n",
    "ieee_folder = os.path.join(base_download_path, \"ieee\")\n",
    "if not os.path.exists(ieee_folder):\n",
    "    os.makedirs(ieee_folder)\n",
    "    print(f\"Carpeta creada: {ieee_folder}\")\n",
    "else:\n",
    "    print(f\"Usando carpeta existente: {ieee_folder}\")\n",
    "\n",
    "# Usar la carpeta ieee como directorio de trabajo\n",
    "download_path = ieee_folder\n",
    "\n",
    "# Inicializar el contador de páginas y errores consecutivos\n",
    "page_num = 1\n",
    "hay_mas_paginas = True\n",
    "errores_consecutivos = 0\n",
    "MAX_ERRORES_CONSECUTIVOS = 3\n",
    "\n",
    "print(f\"\\n{'='*60}\")\n",
    "print(f\"INICIANDO DESCARGA AUTOMATIZADA DE IEEE XPLORE\")\n",
    "print(f\"{'='*60}\\n\")\n",
    "\n",
    "# Bucle para navegar a través de todas las páginas\n",
    "while hay_mas_paginas:\n",
    "    print(f\"\\n{'─'*60}\")\n",
    "    print(f\"Procesando página {page_num}\")\n",
    "    print(f\"{'─'*60}\")\n",
    "\n",
    "    try:\n",
    "        # Espera inteligente para carga de página\n",
    "        WebDriverWait(driver, 15).until(\n",
    "            lambda d: d.execute_script(\"return document.readyState\") == \"complete\"\n",
    "        )\n",
    "        time.sleep(2)\n",
    "\n",
    "        # Seleccionar checkbox con manejo de errores\n",
    "        try:\n",
    "            checkbox = WebDriverWait(driver, 15).until(\n",
    "                EC.presence_of_element_located((By.XPATH,\n",
    "                    '//*[@id=\"xplMainContent\"]/div[2]/div[2]/xpl-results-list/div[2]/label/input'))\n",
    "            )\n",
    "            if not checkbox.is_selected():\n",
    "                driver.execute_script(\"arguments[0].click();\", checkbox)\n",
    "            time.sleep(1)\n",
    "            print(\"Checkbox seleccionado\")\n",
    "            errores_consecutivos = 0  # Resetear contador\n",
    "        except TimeoutException:\n",
    "            print(f\"ADVERTENCIA: No se pudo seleccionar checkbox en página {page_num}\")\n",
    "            errores_consecutivos += 1\n",
    "            if errores_consecutivos >= MAX_ERRORES_CONSECUTIVOS:\n",
    "                print(f\"ERROR: Demasiados errores consecutivos. Deteniendo proceso.\")\n",
    "                break\n",
    "            continue\n",
    "\n",
    "        # Botón Export con manejo de errores\n",
    "        try:\n",
    "            enlace = WebDriverWait(driver, 15).until(\n",
    "                EC.element_to_be_clickable((By.XPATH,\n",
    "                    \"//*[@id='xplMainContent']/div[1]/div[1]/ul/li[3]/xpl-export-search-results/button\"))\n",
    "            )\n",
    "            driver.execute_script(\"arguments[0].click();\", enlace)\n",
    "            time.sleep(2)\n",
    "            print(\"Menú de exportación abierto\")\n",
    "        except TimeoutException:\n",
    "            print(f\"ADVERTENCIA: No se pudo abrir menú de exportación en página {page_num}\")\n",
    "            errores_consecutivos += 1\n",
    "            if errores_consecutivos >= MAX_ERRORES_CONSECUTIVOS:\n",
    "                break\n",
    "            continue\n",
    "\n",
    "        # Opción Citations con manejo de errores\n",
    "        try:\n",
    "            all_results = WebDriverWait(driver, 15).until(\n",
    "                EC.element_to_be_clickable((By.XPATH,\n",
    "                    \"/html/body/ngb-modal-window/div/div/div[1]/ul/li[2]/a\"))\n",
    "            )\n",
    "            all_results.click()\n",
    "            time.sleep(2)\n",
    "            print(\"Opción 'Citations' seleccionada\")\n",
    "        except TimeoutException:\n",
    "            print(f\"ADVERTENCIA: No se pudo seleccionar Citations en página {page_num}\")\n",
    "            errores_consecutivos += 1\n",
    "            if errores_consecutivos >= MAX_ERRORES_CONSECUTIVOS:\n",
    "                break\n",
    "            continue\n",
    "\n",
    "        # Seleccionar BibTeX con manejo de errores\n",
    "        try:\n",
    "            bibtex_link = WebDriverWait(driver, 15).until(\n",
    "                EC.element_to_be_clickable((By.XPATH,\n",
    "                    \"/html/body/ngb-modal-window/div/div/div[2]/div/xpl-citation-download/form/div[1]/section[1]/div/label[2]/input\"))\n",
    "            )\n",
    "            bibtex_link.click()\n",
    "            time.sleep(1)\n",
    "            print(\"Formato BibTeX seleccionado\")\n",
    "        except TimeoutException:\n",
    "            print(f\"ADVERTENCIA: No se pudo seleccionar BibTeX en página {page_num}\")\n",
    "            errores_consecutivos += 1\n",
    "            if errores_consecutivos >= MAX_ERRORES_CONSECUTIVOS:\n",
    "                break\n",
    "            continue\n",
    "\n",
    "        # Citation + Abstract (no crítico)\n",
    "        try:\n",
    "            citAndAbstract_link = WebDriverWait(driver, 15).until(\n",
    "                EC.element_to_be_clickable((By.XPATH,\n",
    "                    \"/html/body/ngb-modal-window/div/div/div[2]/div/xpl-citation-download/form/div[1]/section[2]/div/label[2]/input\"))\n",
    "            )\n",
    "            citAndAbstract_link.click()\n",
    "            time.sleep(1)\n",
    "            print(\"Opción 'Citation and Abstract' seleccionada\")\n",
    "        except TimeoutException:\n",
    "            print(f\"ADVERTENCIA: No se pudo seleccionar Citation and Abstract\")\n",
    "            # No es crítico, continuar\n",
    "\n",
    "        # Guardar estado de descargas antes de bajar\n",
    "        archivos_antes_base = set([f for f in os.listdir(base_download_path) if f.endswith(\".bib\")])\n",
    "\n",
    "        # Botón descargar con manejo de errores\n",
    "        try:\n",
    "            download_button = WebDriverWait(driver, 15).until(\n",
    "                EC.element_to_be_clickable((By.XPATH,\n",
    "                    \"/html/body/ngb-modal-window/div/div/div[2]/div/xpl-citation-download/form/div[2]/button[2]\"))\n",
    "            )\n",
    "            download_button.click()\n",
    "            print(f\"Iniciando descarga para página {page_num}...\")\n",
    "\n",
    "            # Esperar el archivo en la carpeta base de descargas\n",
    "            nuevo_archivo = None\n",
    "            end_time = time.time() + 50\n",
    "            \n",
    "            while time.time() < end_time:\n",
    "                try:\n",
    "                    archivos_actuales = set(f for f in os.listdir(base_download_path) if f.endswith(\".bib\"))\n",
    "                    nuevos = archivos_actuales - archivos_antes_base\n",
    "                    \n",
    "                    if nuevos:\n",
    "                        archivo_descargado = max([os.path.join(base_download_path, f) for f in nuevos],\n",
    "                                          key=os.path.getctime)\n",
    "                        \n",
    "                        # Verificar que tenga contenido\n",
    "                        if os.path.getsize(archivo_descargado) > 0:\n",
    "                            # Mover a la carpeta ieee\n",
    "                            nuevo_nombre = f\"ieee_generative_ai_page_{page_num}.bib\"\n",
    "                            ruta_nueva = os.path.join(download_path, nuevo_nombre)\n",
    "                            \n",
    "                            # Si ya existe, eliminarlo\n",
    "                            if os.path.exists(ruta_nueva):\n",
    "                                os.remove(ruta_nueva)\n",
    "                            \n",
    "                            os.rename(archivo_descargado, ruta_nueva)\n",
    "                            print(f\"Archivo guardado como: {nuevo_nombre}\")\n",
    "                            nuevo_archivo = ruta_nueva\n",
    "                            errores_consecutivos = 0  # Resetear contador\n",
    "                            break\n",
    "                except Exception as e:\n",
    "                    print(f\"ADVERTENCIA: Error al verificar descarga: {e}\")\n",
    "                \n",
    "                time.sleep(1)\n",
    "            \n",
    "            if not nuevo_archivo:\n",
    "                print(f\"ERROR: No se detectó descarga en página {page_num}\")\n",
    "                errores_consecutivos += 1\n",
    "                if errores_consecutivos >= MAX_ERRORES_CONSECUTIVOS:\n",
    "                    break\n",
    "\n",
    "        except TimeoutException:\n",
    "            print(f\"ADVERTENCIA: Timeout en el proceso de descarga en página {page_num}\")\n",
    "            errores_consecutivos += 1\n",
    "            if errores_consecutivos >= MAX_ERRORES_CONSECUTIVOS:\n",
    "                break\n",
    "        except Exception as e:\n",
    "            print(f\"ADVERTENCIA: Error inesperado en descarga: {type(e).__name__}: {e}\")\n",
    "            errores_consecutivos += 1\n",
    "            if errores_consecutivos >= MAX_ERRORES_CONSECUTIVOS:\n",
    "                break\n",
    "\n",
    "        # Cerrar modal\n",
    "        try:\n",
    "            cerrarVentana_link = WebDriverWait(driver, 10).until(\n",
    "                EC.element_to_be_clickable((By.XPATH,\n",
    "                    \"/html/body/ngb-modal-window/div/div/div[1]/div/i\"))\n",
    "            )\n",
    "            cerrarVentana_link.click()\n",
    "            time.sleep(1)\n",
    "        except:\n",
    "            # Intentar cerrar con ESC\n",
    "            ActionChains(driver).send_keys(Keys.ESCAPE).perform()\n",
    "            time.sleep(1)\n",
    "\n",
    "        # Verificar si hay más páginas\n",
    "        try:\n",
    "            siguiente_btn = WebDriverWait(driver, 10).until(\n",
    "                EC.element_to_be_clickable((By.CSS_SELECTOR, \n",
    "                    'button[class^=\"stats-Pagination_arrow_next_\"], '\n",
    "                    'button[aria-label=\"Next page of search results\"], '\n",
    "                    'button.next, a.next, li.next-btn button'))\n",
    "            )\n",
    "            \n",
    "            # Verificar que el botón no esté deshabilitado\n",
    "            if siguiente_btn.is_enabled():\n",
    "                driver.execute_script(\"arguments[0].click();\", siguiente_btn)\n",
    "                page_num += 1\n",
    "                print(f\"Avanzando a la página {page_num}...\")\n",
    "                time.sleep(4)\n",
    "            else:\n",
    "                print(\"INFO: Botón de siguiente página deshabilitado. Fin del recorrido.\")\n",
    "                hay_mas_paginas = False\n",
    "            \n",
    "        except TimeoutException:\n",
    "            print(\"INFO: No se encontró botón de siguiente página. Fin del recorrido.\")\n",
    "            hay_mas_paginas = False\n",
    "        except Exception as e:\n",
    "            print(f\"ADVERTENCIA: Error al intentar avanzar de página: {type(e).__name__}\")\n",
    "            hay_mas_paginas = False\n",
    "\n",
    "    except KeyboardInterrupt:\n",
    "        print(\"\\nADVERTENCIA: Proceso interrumpido por el usuario\")\n",
    "        break\n",
    "    except Exception as e:\n",
    "        print(f\"ERROR: Error inesperado en página {page_num}: {type(e).__name__}: {e}\")\n",
    "        errores_consecutivos += 1\n",
    "        if errores_consecutivos >= MAX_ERRORES_CONSECUTIVOS:\n",
    "            print(f\"ERROR: Demasiados errores consecutivos. Deteniendo proceso.\")\n",
    "            break\n",
    "        continue\n",
    "\n",
    "print(f\"\\n{'='*60}\")\n",
    "print(f\"Proceso completado\")\n",
    "print(f\"Total de páginas procesadas: {page_num}\")\n",
    "print(f\"Archivos guardados en: {download_path}\")\n",
    "print(f\"{'='*60}\\n\")"
   ]
  },
  {
   "cell_type": "code",
   "execution_count": null,
   "id": "0d53a66a",
   "metadata": {},
   "outputs": [],
   "source": [
    "# Cerrar el navegador de forma segura\n",
    "if driver:\n",
    "    try:\n",
    "        print(\"Cerrando navegador...\")\n",
    "        driver.quit()\n",
    "        print(\"Navegador cerrado correctamente\")\n",
    "    except Exception as e:\n",
    "        print(f\"ADVERTENCIA: Error al cerrar navegador: {e}\")\n",
    "else:\n",
    "    print(\"INFO: No hay navegador activo para cerrar\")"
   ]
  }
 ],
 "metadata": {
  "kernelspec": {
   "display_name": "venv",
   "language": "python",
   "name": "python3"
  },
  "language_info": {
   "codemirror_mode": {
    "name": "ipython",
    "version": 3
   },
   "file_extension": ".py",
   "mimetype": "text/x-python",
   "name": "python",
   "nbconvert_exporter": "python",
   "pygments_lexer": "ipython3",
   "version": "3.13.0"
  }
 },
 "nbformat": 4,
 "nbformat_minor": 5
}
