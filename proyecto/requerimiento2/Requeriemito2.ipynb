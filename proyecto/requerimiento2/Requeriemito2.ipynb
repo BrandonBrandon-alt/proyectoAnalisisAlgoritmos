{
 "cells": [
  {
   "cell_type": "markdown",
   "id": "e0f7bd33",
   "metadata": {},
   "source": [
    "# Algoritmos de similitud textual clásicos\n",
    "\n",
    "- https://crucialbits.com/blog/a-comprehensive-list-of-similarity-search-algorithms/\n",
    "  "
   ]
  },
  {
   "cell_type": "markdown",
   "id": "855c0603",
   "metadata": {},
   "source": [
    "## Leer archvio consoliado"
   ]
  },
  {
   "cell_type": "code",
   "execution_count": 2,
   "id": "8455c9c9",
   "metadata": {},
   "outputs": [
    {
     "name": "stdout",
     "output_type": "stream",
     "text": [
      "✅ Artículos totales: 10226\n",
      "📘 Artículos únicos: 10189\n",
      "📄 Artículos repetidos: 38\n"
     ]
    },
    {
     "data": {
      "text/html": [
       "<div>\n",
       "<style scoped>\n",
       "    .dataframe tbody tr th:only-of-type {\n",
       "        vertical-align: middle;\n",
       "    }\n",
       "\n",
       "    .dataframe tbody tr th {\n",
       "        vertical-align: top;\n",
       "    }\n",
       "\n",
       "    .dataframe thead th {\n",
       "        text-align: right;\n",
       "    }\n",
       "</style>\n",
       "<table border=\"1\" class=\"dataframe\">\n",
       "  <thead>\n",
       "    <tr style=\"text-align: right;\">\n",
       "      <th></th>\n",
       "      <th>title</th>\n",
       "      <th>authors</th>\n",
       "      <th>keywords</th>\n",
       "      <th>abstract</th>\n",
       "    </tr>\n",
       "  </thead>\n",
       "  <tbody>\n",
       "    <tr>\n",
       "      <th>0</th>\n",
       "      <td>Do Robots Dream of Passing a Programming Course?</td>\n",
       "      <td>Torres, Nicolás</td>\n",
       "      <td>Training;Computational modeling;Instruments;Na...</td>\n",
       "      <td>Programming typically involves humans formulat...</td>\n",
       "    </tr>\n",
       "    <tr>\n",
       "      <th>1</th>\n",
       "      <td>WeAIR: Wearable Swarm Sensors for Air Quality ...</td>\n",
       "      <td>Dimitri, Giovanna Maria and Parri, Lorenzo and...</td>\n",
       "      <td>Temperature measurement;Climate change;Cloud c...</td>\n",
       "      <td>The present study proposes the implementation ...</td>\n",
       "    </tr>\n",
       "    <tr>\n",
       "      <th>2</th>\n",
       "      <td>Discriminative-Generative Representation Learn...</td>\n",
       "      <td>Li, Duanjiao and Chen, Yun and Zhang, Ying and...</td>\n",
       "      <td>Representation learning;Semantics;Asia;Self-su...</td>\n",
       "      <td>Generative Adversarial Networks (GANs), as a f...</td>\n",
       "    </tr>\n",
       "    <tr>\n",
       "      <th>3</th>\n",
       "      <td>3 Generative AI Models and LLM: Training Techn...</td>\n",
       "      <td>Arun, C. and Karthick, S. and Selvakumara Samy...</td>\n",
       "      <td></td>\n",
       "      <td>Generative artificial intelligence (AI) has be...</td>\n",
       "    </tr>\n",
       "    <tr>\n",
       "      <th>4</th>\n",
       "      <td>Virtual Human: A Comprehensive Survey on Acade...</td>\n",
       "      <td>Cui, Lipeng and Liu, Jiarui</td>\n",
       "      <td>Digital humans;Motion capture;Face recognition...</td>\n",
       "      <td>As a creative method for virtual human individ...</td>\n",
       "    </tr>\n",
       "  </tbody>\n",
       "</table>\n",
       "</div>"
      ],
      "text/plain": [
       "                                               title  \\\n",
       "0   Do Robots Dream of Passing a Programming Course?   \n",
       "1  WeAIR: Wearable Swarm Sensors for Air Quality ...   \n",
       "2  Discriminative-Generative Representation Learn...   \n",
       "3  3 Generative AI Models and LLM: Training Techn...   \n",
       "4  Virtual Human: A Comprehensive Survey on Acade...   \n",
       "\n",
       "                                             authors  \\\n",
       "0                                    Torres, Nicolás   \n",
       "1  Dimitri, Giovanna Maria and Parri, Lorenzo and...   \n",
       "2  Li, Duanjiao and Chen, Yun and Zhang, Ying and...   \n",
       "3  Arun, C. and Karthick, S. and Selvakumara Samy...   \n",
       "4                        Cui, Lipeng and Liu, Jiarui   \n",
       "\n",
       "                                            keywords  \\\n",
       "0  Training;Computational modeling;Instruments;Na...   \n",
       "1  Temperature measurement;Climate change;Cloud c...   \n",
       "2  Representation learning;Semantics;Asia;Self-su...   \n",
       "3                                                      \n",
       "4  Digital humans;Motion capture;Face recognition...   \n",
       "\n",
       "                                            abstract  \n",
       "0  Programming typically involves humans formulat...  \n",
       "1  The present study proposes the implementation ...  \n",
       "2  Generative Adversarial Networks (GANs), as a f...  \n",
       "3  Generative artificial intelligence (AI) has be...  \n",
       "4  As a creative method for virtual human individ...  "
      ]
     },
     "execution_count": 2,
     "metadata": {},
     "output_type": "execute_result"
    }
   ],
   "source": [
    "import bibtexparser\n",
    "import pandas as pd\n",
    "\n",
    "# Configurar el parser\n",
    "parser = bibtexparser.bparser.BibTexParser(common_strings=True)\n",
    "parser.expect_multiple_parse = True  # Evita el warning\n",
    "\n",
    "# Leer TODO el archivo de una vez\n",
    "with open(\"consolidado.bib\", encoding=\"utf-8\") as f:\n",
    "    bib_database = bibtexparser.load(f, parser=parser)\n",
    "\n",
    "# Extraer la información\n",
    "data = []\n",
    "for entry in bib_database.entries:\n",
    "    data.append({\n",
    "        \"title\": entry.get(\"title\", \"\").strip(),\n",
    "        \"authors\": entry.get(\"author\", \"\"),\n",
    "        \"keywords\": entry.get(\"keywords\", \"\"),\n",
    "        \"abstract\": entry.get(\"abstract\", \"\")\n",
    "    })\n",
    "\n",
    "df = pd.DataFrame(data)\n",
    "\n",
    "# Eliminar duplicados por título\n",
    "df_unique = df.drop_duplicates(subset=\"title\", keep=\"first\")\n",
    "df_duplicates = df[df.duplicated(subset=\"title\", keep=False)]\n",
    "\n",
    "# Guardar resultados\n",
    "df_unique.to_csv(\"articulos_unicos.csv\", index=False)\n",
    "df_duplicates.to_csv(\"articulos_repetidos.csv\", index=False)\n",
    "\n",
    "print(f\"✅ Artículos totales: {len(df)}\")\n",
    "print(f\"📘 Artículos únicos: {len(df_unique)}\")\n",
    "print(f\"📄 Artículos repetidos: {len(df_duplicates)}\")\n",
    "\n",
    "df_unique.head()\n"
   ]
  },
  {
   "cell_type": "markdown",
   "id": "4d4d7f89",
   "metadata": {},
   "source": [
    "## Selecion de articulso a comparar"
   ]
  },
  {
   "cell_type": "code",
   "execution_count": 3,
   "id": "8a63fa95",
   "metadata": {},
   "outputs": [
    {
     "name": "stdout",
     "output_type": "stream",
     "text": [
      "0. Do Robots Dream of Passing a Programming Course?\n",
      "Programming typically involves humans formulating instructions for a computer to execute computations. If we adhere to this definition, a machine would seemingly lack the capability to autonomously de...\n",
      "\n",
      "1. WeAIR: Wearable Swarm Sensors for Air Quality Monitoring to Foster Citizens' Awareness of Climate Change\n",
      "The present study proposes the implementation of an air quality measurement tool through the use of a swarm of wearable devices, named WeAIR, consisting of wearable sensors for measuring NOx, CO2, CO,...\n",
      "\n",
      "2. Discriminative-Generative Representation Learning for One-Class Anomaly Detection\n",
      "Generative Adversarial Networks (GANs), as a form of generative self-supervised learning, have garnered significant attention in anomaly detection. However, the generator's capacity for representation...\n",
      "\n"
     ]
    }
   ],
   "source": [
    "# Ejemplo: selecionando los primeros 3\n",
    "abstracts = df[\"abstract\"].head(3).tolist()\n",
    "titles = df[\"title\"].head(3).tolist()\n",
    "\n",
    "for i, t in enumerate(titles):\n",
    "    print(f\"{i}. {t}\\n{abstracts[i][:200]}...\\n\")\n"
   ]
  },
  {
   "cell_type": "markdown",
   "id": "ab4e8db4",
   "metadata": {},
   "source": [
    "## Algoritmo de Levenshtein"
   ]
  },
  {
   "cell_type": "code",
   "execution_count": 4,
   "id": "7e7bdb85",
   "metadata": {},
   "outputs": [
    {
     "name": "stdout",
     "output_type": "stream",
     "text": [
      "Similitud de Levenshtein: 0.219\n",
      "Interpretación: Los textos son poco similares.\n"
     ]
    },
    {
     "data": {
      "text/plain": [
       "0.21857923497267762"
      ]
     },
     "execution_count": 4,
     "metadata": {},
     "output_type": "execute_result"
    }
   ],
   "source": [
    "import Levenshtein\n",
    "\n",
    "def levenshtein_similarity(text1, text2):\n",
    "    dist = Levenshtein.distance(text1, text2)\n",
    "    max_len = max(len(text1), len(text2))\n",
    "    similarity = 1 - dist / max_len\n",
    "    \n",
    "    # Interpretación del resultado\n",
    "    if similarity >= 0.8:\n",
    "        interpretation = \"Los textos son muy similares.\"\n",
    "    elif similarity >= 0.5:\n",
    "        interpretation = \"Los textos tienen cierta similitud moderada.\"\n",
    "    elif similarity >= 0.2:\n",
    "        interpretation = \"Los textos son poco similares.\"\n",
    "    else:\n",
    "        interpretation = \"Los textos no son similares.\"\n",
    "    \n",
    "    print(f\"Similitud de Levenshtein: {similarity:.3f}\")\n",
    "    print(f\"Interpretación: {interpretation}\")\n",
    "    return similarity\n",
    "\n",
    "\n",
    "levenshtein_similarity(abstracts[0], abstracts[1])\n"
   ]
  },
  {
   "cell_type": "markdown",
   "id": "d4a40d56",
   "metadata": {},
   "source": [
    "## Algoritmo de Similitud del Coseno con TF-IDF"
   ]
  },
  {
   "cell_type": "code",
   "execution_count": 5,
   "id": "69546e9e",
   "metadata": {},
   "outputs": [
    {
     "name": "stdout",
     "output_type": "stream",
     "text": [
      "Matriz de similitud de coseno:\n",
      "[[1.         0.0429688  0.09021994]\n",
      " [0.0429688  1.         0.00515135]\n",
      " [0.09021994 0.00515135 1.        ]]\n",
      "\n",
      "Interpretación par a par:\n",
      "\n",
      "Similitud entre Abstract 0 y Abstract 1: 0.043 → Los textos no son similares.\n",
      "Similitud entre Abstract 0 y Abstract 2: 0.090 → Los textos no son similares.\n",
      "Similitud entre Abstract 1 y Abstract 2: 0.005 → Los textos no son similares.\n"
     ]
    }
   ],
   "source": [
    "from sklearn.feature_extraction.text import TfidfVectorizer\n",
    "from sklearn.metrics.pairwise import cosine_similarity\n",
    "\n",
    "def interpretar_similitud(valor):\n",
    "    \"\"\"Interpreta el nivel de similitud según el valor de coseno.\"\"\"\n",
    "    if valor >= 0.8:\n",
    "        return \"Los textos son muy similares.\"\n",
    "    elif valor >= 0.5:\n",
    "        return \"Los textos tienen similitud moderada.\"\n",
    "    elif valor >= 0.2:\n",
    "        return \"Los textos son poco similares.\"\n",
    "    else:\n",
    "        return \"Los textos no son similares.\"\n",
    "\n",
    "# --- Cálculo del TF-IDF y similitud ---\n",
    "vectorizer = TfidfVectorizer(stop_words='english')\n",
    "tfidf_matrix = vectorizer.fit_transform(abstracts)\n",
    "cosine_sim = cosine_similarity(tfidf_matrix)\n",
    "\n",
    "# --- Impresión de resultados ---\n",
    "print(\"Matriz de similitud de coseno:\")\n",
    "print(cosine_sim)\n",
    "print(\"\\nInterpretación par a par:\\n\")\n",
    "\n",
    "# Recorre cada par de textos (sin repetir)\n",
    "for i in range(len(abstracts)):\n",
    "    for j in range(i + 1, len(abstracts)):\n",
    "        valor = cosine_sim[i][j]\n",
    "        print(f\"Similitud entre Abstract {i} y Abstract {j}: {valor:.3f} → {interpretar_similitud(valor)}\")\n"
   ]
  },
  {
   "cell_type": "markdown",
   "id": "813b6077",
   "metadata": {},
   "source": [
    "## Algoritmo de Jaccard"
   ]
  },
  {
   "cell_type": "code",
   "execution_count": 6,
   "id": "4926f934",
   "metadata": {},
   "outputs": [
    {
     "name": "stdout",
     "output_type": "stream",
     "text": [
      "Similitud de Jaccard: 0.078\n",
      "Interpretación: Los textos no son similares.\n"
     ]
    },
    {
     "data": {
      "text/plain": [
       "0.0782122905027933"
      ]
     },
     "execution_count": 6,
     "metadata": {},
     "output_type": "execute_result"
    }
   ],
   "source": [
    "def jaccard_similarity(a, b):\n",
    "    # Convertir a conjuntos de palabras\n",
    "    a_set, b_set = set(a.lower().split()), set(b.lower().split())\n",
    "    similarity = len(a_set & b_set) / len(a_set | b_set)\n",
    "    \n",
    "    # Interpretación de la similitud\n",
    "    if similarity >= 0.8:\n",
    "        interpretation = \"Los textos son muy similares.\"\n",
    "    elif similarity >= 0.5:\n",
    "        interpretation = \"Los textos tienen similitud moderada.\"\n",
    "    elif similarity >= 0.2:\n",
    "        interpretation = \"Los textos son poco similares.\"\n",
    "    else:\n",
    "        interpretation = \"Los textos no son similares.\"\n",
    "    \n",
    "    # Mostrar resultados\n",
    "    print(f\"Similitud de Jaccard: {similarity:.3f}\")\n",
    "    print(f\"Interpretación: {interpretation}\")\n",
    "    return similarity\n",
    "\n",
    "# Ejemplo de uso\n",
    "jaccard_similarity(abstracts[0], abstracts[1])\n"
   ]
  },
  {
   "cell_type": "markdown",
   "id": "6dcc1b4a",
   "metadata": {},
   "source": [
    "## Algoritmo de Similitud Euclidiana"
   ]
  },
  {
   "cell_type": "code",
   "execution_count": 7,
   "id": "9e85185c",
   "metadata": {},
   "outputs": [
    {
     "name": "stdout",
     "output_type": "stream",
     "text": [
      "Matriz de similitud euclidiana:\n",
      "[[1.         0.06972692 0.06005113]\n",
      " [0.06972692 1.         0.05432747]\n",
      " [0.06005113 0.05432747 1.        ]]\n",
      "\n",
      "Similitud entre Abstract 0 y 1: 0.070\n",
      "Interpretación: Los textos no son similares.\n",
      "\n",
      "Similitud entre Abstract 0 y 2: 0.060\n",
      "Interpretación: Los textos no son similares.\n",
      "\n",
      "Similitud entre Abstract 1 y 2: 0.054\n",
      "Interpretación: Los textos no son similares.\n"
     ]
    }
   ],
   "source": [
    "from sklearn.feature_extraction.text import CountVectorizer\n",
    "from sklearn.metrics.pairwise import euclidean_distances\n",
    "\n",
    "# Vectorizar los textos (sin stopwords en inglés)\n",
    "vectorizer = CountVectorizer(stop_words='english')\n",
    "X = vectorizer.fit_transform(abstracts)\n",
    "\n",
    "# Calcular distancias euclidianas\n",
    "distances = euclidean_distances(X)\n",
    "\n",
    "# Convertir a similitud (1 / (1 + distancia))\n",
    "similarities = 1 / (1 + distances)\n",
    "\n",
    "# Mostrar matriz de similitudes con interpretación\n",
    "print(\"Matriz de similitud euclidiana:\")\n",
    "print(similarities)\n",
    "\n",
    "# Interpretar los valores (solo pares distintos)\n",
    "for i in range(len(abstracts)):\n",
    "    for j in range(i + 1, len(abstracts)):\n",
    "        sim = similarities[i, j]\n",
    "        if sim >= 0.8:\n",
    "            interpretation = \"Los textos son muy similares.\"\n",
    "        elif sim >= 0.5:\n",
    "            interpretation = \"Los textos tienen similitud moderada.\"\n",
    "        elif sim >= 0.2:\n",
    "            interpretation = \"Los textos son poco similares.\"\n",
    "        else:\n",
    "            interpretation = \"Los textos no son similares.\"\n",
    "        \n",
    "        print(f\"\\nSimilitud entre Abstract {i} y {j}: {sim:.3f}\")\n",
    "        print(f\"Interpretación: {interpretation}\")\n"
   ]
  },
  {
   "cell_type": "markdown",
   "id": "3b842911",
   "metadata": {},
   "source": [
    "# algoritmos de similitud basados en IA"
   ]
  },
  {
   "attachments": {
    "{21E3CCAC-D2EE-4EED-9C66-23F0AC0F4249}.png": {
     "image/png": "[encoded data removed]"
    }
   },
   "cell_type": "markdown",
   "id": "e5a21b43",
   "metadata": {},
   "source": [
    "## SBERT (Sentence-BERT) – Similitud semántica con embeddings\n",
    "\n",
    "SBERT convierte cada texto en un vector numérico (embedding) en un espacio semántico.\n",
    "Luego compara esos vectores usando la similitud del coseno:\n",
    "\n",
    "![{21E3CCAC-D2EE-4EED-9C66-23F0AC0F4249}.png](attachment:{21E3CCAC-D2EE-4EED-9C66-23F0AC0F4249}.png)\n",
    "\t​\n",
    "\n",
    "\n",
    "Valores cercanos a 1 ⇒ textos muy similares.\n",
    "\n",
    "https://huggingface.co/sentence-transformers/all-MiniLM-L6-v2"
   ]
  },
  {
   "cell_type": "code",
   "execution_count": 8,
   "id": "dc085077",
   "metadata": {},
   "outputs": [
    {
     "name": "stderr",
     "output_type": "stream",
     "text": [
      "c:\\Users\\camil\\AppData\\Local\\Programs\\Python\\Python313\\Lib\\site-packages\\huggingface_hub\\file_download.py:143: UserWarning: `huggingface_hub` cache-system uses symlinks by default to efficiently store duplicated files but your machine does not support them in C:\\Users\\camil\\.cache\\huggingface\\hub\\models--sentence-transformers--all-MiniLM-L6-v2. Caching files will still work but in a degraded version that might require more space on your disk. This warning can be disabled by setting the `HF_HUB_DISABLE_SYMLINKS_WARNING` environment variable. For more details, see https://huggingface.co/docs/huggingface_hub/how-to-cache#limitations.\n",
      "To support symlinks on Windows, you either need to activate Developer Mode or to run Python as an administrator. In order to activate developer mode, see this article: https://docs.microsoft.com/en-us/windows/apps/get-started/enable-your-device-for-development\n",
      "  warnings.warn(message)\n",
      "Xet Storage is enabled for this repo, but the 'hf_xet' package is not installed. Falling back to regular HTTP download. For better performance, install the package with: `pip install huggingface_hub[hf_xet]` or `pip install hf_xet`\n"
     ]
    },
    {
     "name": "stdout",
     "output_type": "stream",
     "text": [
      "Similitud SBERT: 0.189\n",
      "Interpretación: Los textos no son similares.\n"
     ]
    }
   ],
   "source": [
    "\n",
    "from sentence_transformers import SentenceTransformer, util\n",
    "import numpy as np\n",
    "\n",
    "# --- Textos (abstracts) ---\n",
    "texts = [abstracts[0], abstracts[1]]  # puedes cambiar a tus abstracts\n",
    "\n",
    "# --- Cargar modelo SBERT ---\n",
    "model = SentenceTransformer('all-MiniLM-L6-v2')\n",
    "\n",
    "# --- Obtener embeddings ---\n",
    "embeddings = model.encode(texts, convert_to_tensor=True)\n",
    "\n",
    "# --- Calcular similitud de coseno ---\n",
    "similarity = util.cos_sim(embeddings[0], embeddings[1]).item()\n",
    "\n",
    "# --- Interpretar el resultado ---\n",
    "if similarity >= 0.8:\n",
    "    interpretation = \"Los textos son muy similares.\"\n",
    "elif similarity >= 0.5:\n",
    "    interpretation = \"Los textos tienen similitud moderada.\"\n",
    "elif similarity >= 0.2:\n",
    "    interpretation = \"Los textos son poco similares.\"\n",
    "else:\n",
    "    interpretation = \"Los textos no son similares.\"\n",
    "\n",
    "print(f\"Similitud SBERT: {similarity:.3f}\")\n",
    "print(f\"Interpretación: {interpretation}\")\n"
   ]
  },
  {
   "attachments": {
    "{0BFEEA4F-FF28-4A84-9A15-26ED70D1F6E1}.png": {
     "image/png": "[encoded data removed]"
    }
   },
   "cell_type": "markdown",
   "id": "6e29acab",
   "metadata": {},
   "source": [
    "## Cross-Encoder – Evaluación directa de pares de texto\n",
    "\n",
    "El modelo recibe ambos textos juntos y predice una puntuación directa de similitud.\n",
    "Se entrena para entender la relación entre oraciones, no solo las palabras.\n",
    "\n",
    "Matemáticamente:\n",
    "\n",
    "![{0BFEEA4F-FF28-4A84-9A15-26ED70D1F6E1}.png](attachment:{0BFEEA4F-FF28-4A84-9A15-26ED70D1F6E1}.png)\n",
    "\n",
    "\n",
    "f([A;B]) es la representación conjunta del par dentro del transformer.\n",
    "\n",
    "https://huggingface.co/cross-encoder/ms-marco-MiniLM-L6-v2"
   ]
  },
  {
   "cell_type": "code",
   "execution_count": 9,
   "id": "7bb0410f",
   "metadata": {},
   "outputs": [
    {
     "name": "stderr",
     "output_type": "stream",
     "text": [
      "c:\\Users\\camil\\AppData\\Local\\Programs\\Python\\Python313\\Lib\\site-packages\\huggingface_hub\\file_download.py:143: UserWarning: `huggingface_hub` cache-system uses symlinks by default to efficiently store duplicated files but your machine does not support them in C:\\Users\\camil\\.cache\\huggingface\\hub\\models--cross-encoder--ms-marco-MiniLM-L-6-v2. Caching files will still work but in a degraded version that might require more space on your disk. This warning can be disabled by setting the `HF_HUB_DISABLE_SYMLINKS_WARNING` environment variable. For more details, see https://huggingface.co/docs/huggingface_hub/how-to-cache#limitations.\n",
      "To support symlinks on Windows, you either need to activate Developer Mode or to run Python as an administrator. In order to activate developer mode, see this article: https://docs.microsoft.com/en-us/windows/apps/get-started/enable-your-device-for-development\n",
      "  warnings.warn(message)\n",
      "Xet Storage is enabled for this repo, but the 'hf_xet' package is not installed. Falling back to regular HTTP download. For better performance, install the package with: `pip install huggingface_hub[hf_xet]` or `pip install hf_xet`\n"
     ]
    },
    {
     "name": "stdout",
     "output_type": "stream",
     "text": [
      "Puntaje Cross-Encoder: -6.766\n",
      "Probabilidad normalizada: 0.001\n",
      "Interpretación: Los textos no son similares.\n"
     ]
    }
   ],
   "source": [
    "from sentence_transformers import CrossEncoder\n",
    "import numpy as np\n",
    "\n",
    "# --- Cargar modelo ---\n",
    "cross_encoder = CrossEncoder('cross-encoder/ms-marco-MiniLM-L-6-v2')\n",
    "\n",
    "# --- Evaluar similitud directa entre dos textos ---\n",
    "pair = [[abstracts[0], abstracts[1]]]\n",
    "score = cross_encoder.predict(pair)[0]\n",
    "\n",
    "# --- Normalizar (si el score no está entre 0 y 1) ---\n",
    "prob = 1 / (1 + np.exp(-score)) if score > 1 or score < 0 else score\n",
    "\n",
    "# --- Interpretación ---\n",
    "if prob >= 0.8:\n",
    "    interpretation = \"Los textos son muy similares.\"\n",
    "elif prob >= 0.5:\n",
    "    interpretation = \"Los textos tienen similitud moderada.\"\n",
    "elif prob >= 0.2:\n",
    "    interpretation = \"Los textos son poco similares.\"\n",
    "else:\n",
    "    interpretation = \"Los textos no son similares.\"\n",
    "\n",
    "print(f\"Puntaje Cross-Encoder: {score:.3f}\")\n",
    "print(f\"Probabilidad normalizada: {prob:.3f}\")\n",
    "print(f\"Interpretación: {interpretation}\")\n"
   ]
  }
 ],
 "metadata": {
  "kernelspec": {
   "display_name": "Python 3",
   "language": "python",
   "name": "python3"
  },
  "language_info": {
   "codemirror_mode": {
    "name": "ipython",
    "version": 3
   },
   "file_extension": ".py",
   "mimetype": "text/x-python",
   "name": "python",
   "nbconvert_exporter": "python",
   "pygments_lexer": "ipython3",
   "version": "3.13.6"
  }
 },
 "nbformat": 4,
 "nbformat_minor": 5
}
